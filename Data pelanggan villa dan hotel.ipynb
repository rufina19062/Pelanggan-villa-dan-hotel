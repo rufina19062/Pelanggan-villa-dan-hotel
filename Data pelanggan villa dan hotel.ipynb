{
 "cells": [
  {
   "cell_type": "code",
   "execution_count": 82,
   "metadata": {},
   "outputs": [],
   "source": [
    "import pandas as pd\n",
    "from sklearn.preprocessing import LabelEncoder\n",
    "import numpy as np\n",
    "import matplotlib.pyplot as plt\n",
    "import seaborn as sns"
   ]
  },
  {
   "cell_type": "code",
   "execution_count": 83,
   "metadata": {},
   "outputs": [],
   "source": [
    "xls = pd.ExcelFile(\"c:/Users/asus/Documents/Kuliah S1/Data Mining/Data villa dan hotel.xlsx\")\n",
    "data = xls.parse('Data')"
   ]
  },
  {
   "cell_type": "code",
   "execution_count": 4,
   "metadata": {
    "scrolled": false
   },
   "outputs": [
    {
     "data": {
      "text/html": [
       "<div>\n",
       "<style scoped>\n",
       "    .dataframe tbody tr th:only-of-type {\n",
       "        vertical-align: middle;\n",
       "    }\n",
       "\n",
       "    .dataframe tbody tr th {\n",
       "        vertical-align: top;\n",
       "    }\n",
       "\n",
       "    .dataframe thead th {\n",
       "        text-align: right;\n",
       "    }\n",
       "</style>\n",
       "<table border=\"1\" class=\"dataframe\">\n",
       "  <thead>\n",
       "    <tr style=\"text-align: right;\">\n",
       "      <th></th>\n",
       "      <th>jenis_hotel</th>\n",
       "      <th>cancel</th>\n",
       "      <th>selang_hari</th>\n",
       "      <th>datang_thn</th>\n",
       "      <th>datang_bln</th>\n",
       "      <th>datang_minggu</th>\n",
       "      <th>datang_hari</th>\n",
       "      <th>akhir_pekan</th>\n",
       "      <th>hari_kerja</th>\n",
       "      <th>dewasa</th>\n",
       "      <th>...</th>\n",
       "      <th>deposit</th>\n",
       "      <th>agen</th>\n",
       "      <th>perusahaan</th>\n",
       "      <th>daftar_tunggu_hari</th>\n",
       "      <th>tipe_pelanggan</th>\n",
       "      <th>tarif_rata_hari</th>\n",
       "      <th>parkir</th>\n",
       "      <th>khusus</th>\n",
       "      <th>status_reservasi</th>\n",
       "      <th>status_reservasi_tgl</th>\n",
       "    </tr>\n",
       "  </thead>\n",
       "  <tbody>\n",
       "    <tr>\n",
       "      <th>0</th>\n",
       "      <td>Villa</td>\n",
       "      <td>tidak ada cancel</td>\n",
       "      <td>342</td>\n",
       "      <td>2015</td>\n",
       "      <td>7</td>\n",
       "      <td>27</td>\n",
       "      <td>1</td>\n",
       "      <td>0</td>\n",
       "      <td>0</td>\n",
       "      <td>2</td>\n",
       "      <td>...</td>\n",
       "      <td>1</td>\n",
       "      <td>NaN</td>\n",
       "      <td>NaN</td>\n",
       "      <td>0</td>\n",
       "      <td>Transient</td>\n",
       "      <td>0.0</td>\n",
       "      <td>0</td>\n",
       "      <td>0</td>\n",
       "      <td>Check-Out</td>\n",
       "      <td>2015-07-01</td>\n",
       "    </tr>\n",
       "    <tr>\n",
       "      <th>1</th>\n",
       "      <td>Villa</td>\n",
       "      <td>tidak ada cancel</td>\n",
       "      <td>737</td>\n",
       "      <td>2015</td>\n",
       "      <td>7</td>\n",
       "      <td>27</td>\n",
       "      <td>1</td>\n",
       "      <td>0</td>\n",
       "      <td>0</td>\n",
       "      <td>2</td>\n",
       "      <td>...</td>\n",
       "      <td>1</td>\n",
       "      <td>NaN</td>\n",
       "      <td>NaN</td>\n",
       "      <td>0</td>\n",
       "      <td>Transient</td>\n",
       "      <td>0.0</td>\n",
       "      <td>0</td>\n",
       "      <td>0</td>\n",
       "      <td>Check-Out</td>\n",
       "      <td>2015-07-01</td>\n",
       "    </tr>\n",
       "    <tr>\n",
       "      <th>2</th>\n",
       "      <td>Villa</td>\n",
       "      <td>tidak ada cancel</td>\n",
       "      <td>7</td>\n",
       "      <td>2015</td>\n",
       "      <td>7</td>\n",
       "      <td>27</td>\n",
       "      <td>1</td>\n",
       "      <td>0</td>\n",
       "      <td>1</td>\n",
       "      <td>1</td>\n",
       "      <td>...</td>\n",
       "      <td>1</td>\n",
       "      <td>NaN</td>\n",
       "      <td>NaN</td>\n",
       "      <td>0</td>\n",
       "      <td>Transient</td>\n",
       "      <td>75.0</td>\n",
       "      <td>0</td>\n",
       "      <td>0</td>\n",
       "      <td>Check-Out</td>\n",
       "      <td>2015-07-02</td>\n",
       "    </tr>\n",
       "    <tr>\n",
       "      <th>3</th>\n",
       "      <td>Villa</td>\n",
       "      <td>tidak ada cancel</td>\n",
       "      <td>13</td>\n",
       "      <td>2015</td>\n",
       "      <td>7</td>\n",
       "      <td>27</td>\n",
       "      <td>1</td>\n",
       "      <td>0</td>\n",
       "      <td>1</td>\n",
       "      <td>1</td>\n",
       "      <td>...</td>\n",
       "      <td>1</td>\n",
       "      <td>304.0</td>\n",
       "      <td>NaN</td>\n",
       "      <td>0</td>\n",
       "      <td>Transient</td>\n",
       "      <td>75.0</td>\n",
       "      <td>0</td>\n",
       "      <td>0</td>\n",
       "      <td>Check-Out</td>\n",
       "      <td>2015-07-02</td>\n",
       "    </tr>\n",
       "    <tr>\n",
       "      <th>4</th>\n",
       "      <td>Villa</td>\n",
       "      <td>tidak ada cancel</td>\n",
       "      <td>14</td>\n",
       "      <td>2015</td>\n",
       "      <td>7</td>\n",
       "      <td>27</td>\n",
       "      <td>1</td>\n",
       "      <td>0</td>\n",
       "      <td>2</td>\n",
       "      <td>2</td>\n",
       "      <td>...</td>\n",
       "      <td>1</td>\n",
       "      <td>240.0</td>\n",
       "      <td>NaN</td>\n",
       "      <td>0</td>\n",
       "      <td>Transient</td>\n",
       "      <td>98.0</td>\n",
       "      <td>0</td>\n",
       "      <td>1</td>\n",
       "      <td>Check-Out</td>\n",
       "      <td>2015-07-03</td>\n",
       "    </tr>\n",
       "  </tbody>\n",
       "</table>\n",
       "<p>5 rows × 32 columns</p>\n",
       "</div>"
      ],
      "text/plain": [
       "  jenis_hotel            cancel  selang_hari  datang_thn  datang_bln  \\\n",
       "0       Villa  tidak ada cancel          342        2015           7   \n",
       "1       Villa  tidak ada cancel          737        2015           7   \n",
       "2       Villa  tidak ada cancel            7        2015           7   \n",
       "3       Villa  tidak ada cancel           13        2015           7   \n",
       "4       Villa  tidak ada cancel           14        2015           7   \n",
       "\n",
       "   datang_minggu  datang_hari  akhir_pekan  hari_kerja  dewasa  ...  deposit  \\\n",
       "0             27            1            0           0       2  ...        1   \n",
       "1             27            1            0           0       2  ...        1   \n",
       "2             27            1            0           1       1  ...        1   \n",
       "3             27            1            0           1       1  ...        1   \n",
       "4             27            1            0           2       2  ...        1   \n",
       "\n",
       "    agen perusahaan daftar_tunggu_hari tipe_pelanggan tarif_rata_hari  parkir  \\\n",
       "0    NaN        NaN                  0      Transient             0.0       0   \n",
       "1    NaN        NaN                  0      Transient             0.0       0   \n",
       "2    NaN        NaN                  0      Transient            75.0       0   \n",
       "3  304.0        NaN                  0      Transient            75.0       0   \n",
       "4  240.0        NaN                  0      Transient            98.0       0   \n",
       "\n",
       "   khusus  status_reservasi status_reservasi_tgl  \n",
       "0       0         Check-Out           2015-07-01  \n",
       "1       0         Check-Out           2015-07-01  \n",
       "2       0         Check-Out           2015-07-02  \n",
       "3       0         Check-Out           2015-07-02  \n",
       "4       1         Check-Out           2015-07-03  \n",
       "\n",
       "[5 rows x 32 columns]"
      ]
     },
     "execution_count": 4,
     "metadata": {},
     "output_type": "execute_result"
    }
   ],
   "source": [
    "data.head()"
   ]
  },
  {
   "cell_type": "code",
   "execution_count": 62,
   "metadata": {},
   "outputs": [
    {
     "data": {
      "text/plain": [
       "jenis_hotel                      object\n",
       "cancel                           object\n",
       "selang_hari                       int64\n",
       "datang_thn                        int64\n",
       "datang_bln                        int64\n",
       "datang_minggu                     int64\n",
       "datang_hari                       int64\n",
       "akhir_pekan                       int64\n",
       "hari_kerja                        int64\n",
       "dewasa                            int64\n",
       "anak                            float64\n",
       "bayi                              int64\n",
       "pesan_meal                       object\n",
       "Kode Negara                      object\n",
       "pasar                            object\n",
       "pesan                            object\n",
       "pesan_ulang                       int64\n",
       "cancel_sebelumnya                 int64\n",
       "tdk_cancel_sebelumnya             int64\n",
       "pesan_kamar                      object\n",
       "tandai_kamar                     object\n",
       "perubahan_pesan                   int64\n",
       "deposit                           int64\n",
       "agen                            float64\n",
       "perusahaan                      float64\n",
       "daftar_tunggu_hari                int64\n",
       "tipe_pelanggan                   object\n",
       "tarif_rata_hari                 float64\n",
       "parkir                            int64\n",
       "khusus                            int64\n",
       "status_reservasi                 object\n",
       "status_reservasi_tgl     datetime64[ns]\n",
       "dtype: object"
      ]
     },
     "execution_count": 62,
     "metadata": {},
     "output_type": "execute_result"
    }
   ],
   "source": [
    "data.dtypes"
   ]
  },
  {
   "cell_type": "code",
   "execution_count": 64,
   "metadata": {
    "scrolled": true
   },
   "outputs": [
    {
     "data": {
      "text/plain": [
       "jenis_hotel                   0\n",
       "cancel                        0\n",
       "selang_hari                   0\n",
       "datang_thn                    0\n",
       "datang_bln                    0\n",
       "datang_minggu                 0\n",
       "datang_hari                   0\n",
       "akhir_pekan                   0\n",
       "hari_kerja                    0\n",
       "dewasa                        0\n",
       "anak                          4\n",
       "bayi                          0\n",
       "pesan_meal                    0\n",
       "Kode Negara                 488\n",
       "pasar                         0\n",
       "pesan                         0\n",
       "pesan_ulang                   0\n",
       "cancel_sebelumnya             0\n",
       "tdk_cancel_sebelumnya         0\n",
       "pesan_kamar                   0\n",
       "tandai_kamar                  0\n",
       "perubahan_pesan               0\n",
       "deposit                       0\n",
       "agen                      16340\n",
       "perusahaan               112593\n",
       "daftar_tunggu_hari            0\n",
       "tipe_pelanggan                0\n",
       "tarif_rata_hari               0\n",
       "parkir                        0\n",
       "khusus                        0\n",
       "status_reservasi              0\n",
       "status_reservasi_tgl          0\n",
       "dtype: int64"
      ]
     },
     "execution_count": 64,
     "metadata": {},
     "output_type": "execute_result"
    }
   ],
   "source": [
    "data.isnull().sum()"
   ]
  },
  {
   "cell_type": "code",
   "execution_count": 60,
   "metadata": {
    "scrolled": true
   },
   "outputs": [
    {
     "data": {
      "text/html": [
       "<div>\n",
       "<style scoped>\n",
       "    .dataframe tbody tr th:only-of-type {\n",
       "        vertical-align: middle;\n",
       "    }\n",
       "\n",
       "    .dataframe tbody tr th {\n",
       "        vertical-align: top;\n",
       "    }\n",
       "\n",
       "    .dataframe thead th {\n",
       "        text-align: right;\n",
       "    }\n",
       "</style>\n",
       "<table border=\"1\" class=\"dataframe\">\n",
       "  <thead>\n",
       "    <tr style=\"text-align: right;\">\n",
       "      <th></th>\n",
       "      <th>selang_hari</th>\n",
       "      <th>akhir_pekan</th>\n",
       "      <th>hari_kerja</th>\n",
       "      <th>dewasa</th>\n",
       "      <th>anak</th>\n",
       "      <th>bayi</th>\n",
       "      <th>tarif_rata_hari</th>\n",
       "    </tr>\n",
       "  </thead>\n",
       "  <tbody>\n",
       "    <tr>\n",
       "      <th>count</th>\n",
       "      <td>119390.000000</td>\n",
       "      <td>119390.000000</td>\n",
       "      <td>119390.000000</td>\n",
       "      <td>119390.000000</td>\n",
       "      <td>119390.000000</td>\n",
       "      <td>119390.000000</td>\n",
       "      <td>119390.000000</td>\n",
       "    </tr>\n",
       "    <tr>\n",
       "      <th>mean</th>\n",
       "      <td>104.011416</td>\n",
       "      <td>0.927599</td>\n",
       "      <td>2.500302</td>\n",
       "      <td>1.856403</td>\n",
       "      <td>0.103890</td>\n",
       "      <td>0.007949</td>\n",
       "      <td>101.831122</td>\n",
       "    </tr>\n",
       "    <tr>\n",
       "      <th>std</th>\n",
       "      <td>106.863097</td>\n",
       "      <td>0.998613</td>\n",
       "      <td>1.908286</td>\n",
       "      <td>0.579261</td>\n",
       "      <td>0.398555</td>\n",
       "      <td>0.097436</td>\n",
       "      <td>50.535790</td>\n",
       "    </tr>\n",
       "    <tr>\n",
       "      <th>min</th>\n",
       "      <td>0.000000</td>\n",
       "      <td>0.000000</td>\n",
       "      <td>0.000000</td>\n",
       "      <td>0.000000</td>\n",
       "      <td>0.000000</td>\n",
       "      <td>0.000000</td>\n",
       "      <td>-6.380000</td>\n",
       "    </tr>\n",
       "    <tr>\n",
       "      <th>25%</th>\n",
       "      <td>18.000000</td>\n",
       "      <td>0.000000</td>\n",
       "      <td>1.000000</td>\n",
       "      <td>2.000000</td>\n",
       "      <td>0.000000</td>\n",
       "      <td>0.000000</td>\n",
       "      <td>69.290000</td>\n",
       "    </tr>\n",
       "    <tr>\n",
       "      <th>50%</th>\n",
       "      <td>69.000000</td>\n",
       "      <td>1.000000</td>\n",
       "      <td>2.000000</td>\n",
       "      <td>2.000000</td>\n",
       "      <td>0.000000</td>\n",
       "      <td>0.000000</td>\n",
       "      <td>94.575000</td>\n",
       "    </tr>\n",
       "    <tr>\n",
       "      <th>75%</th>\n",
       "      <td>160.000000</td>\n",
       "      <td>2.000000</td>\n",
       "      <td>3.000000</td>\n",
       "      <td>2.000000</td>\n",
       "      <td>0.000000</td>\n",
       "      <td>0.000000</td>\n",
       "      <td>126.000000</td>\n",
       "    </tr>\n",
       "    <tr>\n",
       "      <th>max</th>\n",
       "      <td>737.000000</td>\n",
       "      <td>19.000000</td>\n",
       "      <td>50.000000</td>\n",
       "      <td>55.000000</td>\n",
       "      <td>10.000000</td>\n",
       "      <td>10.000000</td>\n",
       "      <td>5400.000000</td>\n",
       "    </tr>\n",
       "  </tbody>\n",
       "</table>\n",
       "</div>"
      ],
      "text/plain": [
       "         selang_hari    akhir_pekan     hari_kerja         dewasa  \\\n",
       "count  119390.000000  119390.000000  119390.000000  119390.000000   \n",
       "mean      104.011416       0.927599       2.500302       1.856403   \n",
       "std       106.863097       0.998613       1.908286       0.579261   \n",
       "min         0.000000       0.000000       0.000000       0.000000   \n",
       "25%        18.000000       0.000000       1.000000       2.000000   \n",
       "50%        69.000000       1.000000       2.000000       2.000000   \n",
       "75%       160.000000       2.000000       3.000000       2.000000   \n",
       "max       737.000000      19.000000      50.000000      55.000000   \n",
       "\n",
       "                anak           bayi  tarif_rata_hari  \n",
       "count  119390.000000  119390.000000    119390.000000  \n",
       "mean        0.103890       0.007949       101.831122  \n",
       "std         0.398555       0.097436        50.535790  \n",
       "min         0.000000       0.000000        -6.380000  \n",
       "25%         0.000000       0.000000        69.290000  \n",
       "50%         0.000000       0.000000        94.575000  \n",
       "75%         0.000000       0.000000       126.000000  \n",
       "max        10.000000      10.000000      5400.000000  "
      ]
     },
     "execution_count": 60,
     "metadata": {},
     "output_type": "execute_result"
    }
   ],
   "source": [
    "deskripsi=data[['selang_hari', 'akhir_pekan', 'hari_kerja', 'dewasa', 'anak', 'bayi', 'tarif_rata_hari']]\n",
    "deskripsi.describe()"
   ]
  },
  {
   "cell_type": "code",
   "execution_count": 84,
   "metadata": {},
   "outputs": [],
   "source": [
    "data.anak = data.anak.fillna(data.anak.mean())\n",
    "data[\"Kode Negara\"] = data[\"Kode Negara\"].fillna(data[\"Kode Negara\"].mode()[0])\n",
    "data.agen = data.agen.fillna(data.agen.mode()[0])\n",
    "data.perusahaan = data.perusahaan.fillna(data.perusahaan.mode()[0])"
   ]
  },
  {
   "cell_type": "code",
   "execution_count": 85,
   "metadata": {},
   "outputs": [
    {
     "data": {
      "text/plain": [
       "jenis_hotel              0\n",
       "cancel                   0\n",
       "selang_hari              0\n",
       "datang_thn               0\n",
       "datang_bln               0\n",
       "datang_minggu            0\n",
       "datang_hari              0\n",
       "akhir_pekan              0\n",
       "hari_kerja               0\n",
       "dewasa                   0\n",
       "anak                     0\n",
       "bayi                     0\n",
       "pesan_meal               0\n",
       "Kode Negara              0\n",
       "pasar                    0\n",
       "pesan                    0\n",
       "pesan_ulang              0\n",
       "cancel_sebelumnya        0\n",
       "tdk_cancel_sebelumnya    0\n",
       "pesan_kamar              0\n",
       "tandai_kamar             0\n",
       "perubahan_pesan          0\n",
       "deposit                  0\n",
       "agen                     0\n",
       "perusahaan               0\n",
       "daftar_tunggu_hari       0\n",
       "tipe_pelanggan           0\n",
       "tarif_rata_hari          0\n",
       "parkir                   0\n",
       "khusus                   0\n",
       "status_reservasi         0\n",
       "status_reservasi_tgl     0\n",
       "dtype: int64"
      ]
     },
     "execution_count": 85,
     "metadata": {},
     "output_type": "execute_result"
    }
   ],
   "source": [
    "data.isnull().sum()"
   ]
  },
  {
   "cell_type": "code",
   "execution_count": 7,
   "metadata": {
    "scrolled": true
   },
   "outputs": [
    {
     "data": {
      "text/html": [
       "<div>\n",
       "<style scoped>\n",
       "    .dataframe tbody tr th:only-of-type {\n",
       "        vertical-align: middle;\n",
       "    }\n",
       "\n",
       "    .dataframe tbody tr th {\n",
       "        vertical-align: top;\n",
       "    }\n",
       "\n",
       "    .dataframe thead th {\n",
       "        text-align: right;\n",
       "    }\n",
       "</style>\n",
       "<table border=\"1\" class=\"dataframe\">\n",
       "  <thead>\n",
       "    <tr style=\"text-align: right;\">\n",
       "      <th></th>\n",
       "      <th>jenis_hotel</th>\n",
       "      <th>cancel</th>\n",
       "      <th>selang_hari</th>\n",
       "      <th>datang_thn</th>\n",
       "      <th>datang_bln</th>\n",
       "      <th>datang_minggu</th>\n",
       "      <th>datang_hari</th>\n",
       "      <th>akhir_pekan</th>\n",
       "      <th>hari_kerja</th>\n",
       "      <th>dewasa</th>\n",
       "      <th>...</th>\n",
       "      <th>deposit</th>\n",
       "      <th>agen</th>\n",
       "      <th>perusahaan</th>\n",
       "      <th>daftar_tunggu_hari</th>\n",
       "      <th>tipe_pelanggan</th>\n",
       "      <th>tarif_rata_hari</th>\n",
       "      <th>parkir</th>\n",
       "      <th>khusus</th>\n",
       "      <th>status_reservasi</th>\n",
       "      <th>status_reservasi_tgl</th>\n",
       "    </tr>\n",
       "  </thead>\n",
       "  <tbody>\n",
       "    <tr>\n",
       "      <th>0</th>\n",
       "      <td>Villa</td>\n",
       "      <td>tidak ada cancel</td>\n",
       "      <td>342</td>\n",
       "      <td>2015</td>\n",
       "      <td>7</td>\n",
       "      <td>27</td>\n",
       "      <td>1</td>\n",
       "      <td>0</td>\n",
       "      <td>0</td>\n",
       "      <td>2</td>\n",
       "      <td>...</td>\n",
       "      <td>1</td>\n",
       "      <td>86.693382</td>\n",
       "      <td>189.266735</td>\n",
       "      <td>0</td>\n",
       "      <td>Transient</td>\n",
       "      <td>0.0</td>\n",
       "      <td>0</td>\n",
       "      <td>0</td>\n",
       "      <td>Check-Out</td>\n",
       "      <td>2015-07-01</td>\n",
       "    </tr>\n",
       "    <tr>\n",
       "      <th>1</th>\n",
       "      <td>Villa</td>\n",
       "      <td>tidak ada cancel</td>\n",
       "      <td>737</td>\n",
       "      <td>2015</td>\n",
       "      <td>7</td>\n",
       "      <td>27</td>\n",
       "      <td>1</td>\n",
       "      <td>0</td>\n",
       "      <td>0</td>\n",
       "      <td>2</td>\n",
       "      <td>...</td>\n",
       "      <td>1</td>\n",
       "      <td>86.693382</td>\n",
       "      <td>189.266735</td>\n",
       "      <td>0</td>\n",
       "      <td>Transient</td>\n",
       "      <td>0.0</td>\n",
       "      <td>0</td>\n",
       "      <td>0</td>\n",
       "      <td>Check-Out</td>\n",
       "      <td>2015-07-01</td>\n",
       "    </tr>\n",
       "    <tr>\n",
       "      <th>2</th>\n",
       "      <td>Villa</td>\n",
       "      <td>tidak ada cancel</td>\n",
       "      <td>7</td>\n",
       "      <td>2015</td>\n",
       "      <td>7</td>\n",
       "      <td>27</td>\n",
       "      <td>1</td>\n",
       "      <td>0</td>\n",
       "      <td>1</td>\n",
       "      <td>1</td>\n",
       "      <td>...</td>\n",
       "      <td>1</td>\n",
       "      <td>86.693382</td>\n",
       "      <td>189.266735</td>\n",
       "      <td>0</td>\n",
       "      <td>Transient</td>\n",
       "      <td>75.0</td>\n",
       "      <td>0</td>\n",
       "      <td>0</td>\n",
       "      <td>Check-Out</td>\n",
       "      <td>2015-07-02</td>\n",
       "    </tr>\n",
       "    <tr>\n",
       "      <th>3</th>\n",
       "      <td>Villa</td>\n",
       "      <td>tidak ada cancel</td>\n",
       "      <td>13</td>\n",
       "      <td>2015</td>\n",
       "      <td>7</td>\n",
       "      <td>27</td>\n",
       "      <td>1</td>\n",
       "      <td>0</td>\n",
       "      <td>1</td>\n",
       "      <td>1</td>\n",
       "      <td>...</td>\n",
       "      <td>1</td>\n",
       "      <td>304.000000</td>\n",
       "      <td>189.266735</td>\n",
       "      <td>0</td>\n",
       "      <td>Transient</td>\n",
       "      <td>75.0</td>\n",
       "      <td>0</td>\n",
       "      <td>0</td>\n",
       "      <td>Check-Out</td>\n",
       "      <td>2015-07-02</td>\n",
       "    </tr>\n",
       "    <tr>\n",
       "      <th>4</th>\n",
       "      <td>Villa</td>\n",
       "      <td>tidak ada cancel</td>\n",
       "      <td>14</td>\n",
       "      <td>2015</td>\n",
       "      <td>7</td>\n",
       "      <td>27</td>\n",
       "      <td>1</td>\n",
       "      <td>0</td>\n",
       "      <td>2</td>\n",
       "      <td>2</td>\n",
       "      <td>...</td>\n",
       "      <td>1</td>\n",
       "      <td>240.000000</td>\n",
       "      <td>189.266735</td>\n",
       "      <td>0</td>\n",
       "      <td>Transient</td>\n",
       "      <td>98.0</td>\n",
       "      <td>0</td>\n",
       "      <td>1</td>\n",
       "      <td>Check-Out</td>\n",
       "      <td>2015-07-03</td>\n",
       "    </tr>\n",
       "  </tbody>\n",
       "</table>\n",
       "<p>5 rows × 32 columns</p>\n",
       "</div>"
      ],
      "text/plain": [
       "  jenis_hotel            cancel  selang_hari  datang_thn  datang_bln  \\\n",
       "0       Villa  tidak ada cancel          342        2015           7   \n",
       "1       Villa  tidak ada cancel          737        2015           7   \n",
       "2       Villa  tidak ada cancel            7        2015           7   \n",
       "3       Villa  tidak ada cancel           13        2015           7   \n",
       "4       Villa  tidak ada cancel           14        2015           7   \n",
       "\n",
       "   datang_minggu  datang_hari  akhir_pekan  hari_kerja  dewasa  ...  deposit  \\\n",
       "0             27            1            0           0       2  ...        1   \n",
       "1             27            1            0           0       2  ...        1   \n",
       "2             27            1            0           1       1  ...        1   \n",
       "3             27            1            0           1       1  ...        1   \n",
       "4             27            1            0           2       2  ...        1   \n",
       "\n",
       "         agen  perusahaan daftar_tunggu_hari tipe_pelanggan tarif_rata_hari  \\\n",
       "0   86.693382  189.266735                  0      Transient             0.0   \n",
       "1   86.693382  189.266735                  0      Transient             0.0   \n",
       "2   86.693382  189.266735                  0      Transient            75.0   \n",
       "3  304.000000  189.266735                  0      Transient            75.0   \n",
       "4  240.000000  189.266735                  0      Transient            98.0   \n",
       "\n",
       "   parkir  khusus  status_reservasi status_reservasi_tgl  \n",
       "0       0       0         Check-Out           2015-07-01  \n",
       "1       0       0         Check-Out           2015-07-01  \n",
       "2       0       0         Check-Out           2015-07-02  \n",
       "3       0       0         Check-Out           2015-07-02  \n",
       "4       0       1         Check-Out           2015-07-03  \n",
       "\n",
       "[5 rows x 32 columns]"
      ]
     },
     "execution_count": 7,
     "metadata": {},
     "output_type": "execute_result"
    }
   ],
   "source": [
    "data.head()"
   ]
  },
  {
   "cell_type": "markdown",
   "metadata": {},
   "source": [
    "# Eksplorasi Data"
   ]
  },
  {
   "cell_type": "code",
   "execution_count": 31,
   "metadata": {},
   "outputs": [
    {
     "data": {
      "text/plain": [
       "<AxesSubplot:ylabel='jenis_hotel'>"
      ]
     },
     "execution_count": 31,
     "metadata": {},
     "output_type": "execute_result"
    },
    {
     "data": {
      "image/png": "[encoded data removed]",
      "text/plain": [
       "<Figure size 432x288 with 1 Axes>"
      ]
     },
     "metadata": {},
     "output_type": "display_data"
    }
   ],
   "source": [
    "Jenis_hotel=data['jenis_hotel'].value_counts()\n",
    "Jenis_hotel.plot.pie(autopct='%1.1f%%')"
   ]
  },
  {
   "cell_type": "code",
   "execution_count": 42,
   "metadata": {},
   "outputs": [
    {
     "data": {
      "text/plain": [
       "<AxesSubplot:ylabel='pesan_meal'>"
      ]
     },
     "execution_count": 42,
     "metadata": {},
     "output_type": "execute_result"
    },
    {
     "data": {
      "image/png": "[encoded data removed]",
      "text/plain": [
       "<Figure size 432x288 with 1 Axes>"
      ]
     },
     "metadata": {},
     "output_type": "display_data"
    }
   ],
   "source": [
    "Makanan=data['pesan_meal'].value_counts()\n",
    "Makanan.plot.pie(autopct='%1.1f%%')"
   ]
  },
  {
   "cell_type": "code",
   "execution_count": 38,
   "metadata": {},
   "outputs": [
    {
     "data": {
      "text/plain": [
       "<AxesSubplot:ylabel='pasar'>"
      ]
     },
     "execution_count": 38,
     "metadata": {},
     "output_type": "execute_result"
    },
    {
     "data": {
      "image/png": "[encoded data removed]",
      "text/plain": [
       "<Figure size 432x288 with 1 Axes>"
      ]
     },
     "metadata": {},
     "output_type": "display_data"
    }
   ],
   "source": [
    "Pasar=data['pasar'].value_counts()\n",
    "Pasar.plot.pie(autopct='%1.1f%%')"
   ]
  },
  {
   "cell_type": "code",
   "execution_count": 41,
   "metadata": {
    "scrolled": true
   },
   "outputs": [
    {
     "data": {
      "text/plain": [
       "<AxesSubplot:ylabel='pesan'>"
      ]
     },
     "execution_count": 41,
     "metadata": {},
     "output_type": "execute_result"
    },
    {
     "data": {
      "image/png": "[encoded data removed]",
      "text/plain": [
       "<Figure size 432x288 with 1 Axes>"
      ]
     },
     "metadata": {},
     "output_type": "display_data"
    }
   ],
   "source": [
    "Pesan=data['pesan'].value_counts()\n",
    "Pesan.plot.pie(autopct='%1.1f%%')"
   ]
  },
  {
   "cell_type": "code",
   "execution_count": 40,
   "metadata": {
    "scrolled": false
   },
   "outputs": [
    {
     "data": {
      "text/plain": [
       "<AxesSubplot:ylabel='deposit'>"
      ]
     },
     "execution_count": 40,
     "metadata": {},
     "output_type": "execute_result"
    },
    {
     "data": {
      "image/png": "[encoded data removed]",
      "text/plain": [
       "<Figure size 432x288 with 1 Axes>"
      ]
     },
     "metadata": {},
     "output_type": "display_data"
    }
   ],
   "source": [
    "labels = ['Tidak ada deposit', 'No refund', 'Refundable']\n",
    "Deposit=data['deposit'].value_counts()\n",
    "Deposit.plot.pie(labels=labels, autopct='%1.1f%%')"
   ]
  },
  {
   "cell_type": "code",
   "execution_count": 61,
   "metadata": {},
   "outputs": [
    {
     "data": {
      "text/plain": [
       "<AxesSubplot:ylabel='tipe_pelanggan'>"
      ]
     },
     "execution_count": 61,
     "metadata": {},
     "output_type": "execute_result"
    },
    {
     "data": {
      "image/png": "[encoded data removed]",
      "text/plain": [
       "<Figure size 432x288 with 1 Axes>"
      ]
     },
     "metadata": {},
     "output_type": "display_data"
    }
   ],
   "source": [
    "Pelanggan=data['tipe_pelanggan'].value_counts()\n",
    "Pelanggan.plot.pie(autopct='%1.1f%%')"
   ]
  },
  {
   "cell_type": "code",
   "execution_count": 68,
   "metadata": {},
   "outputs": [
    {
     "data": {
      "text/plain": [
       "<AxesSubplot:ylabel='status_reservasi'>"
      ]
     },
     "execution_count": 68,
     "metadata": {},
     "output_type": "execute_result"
    },
    {
     "data": {
      "image/png": "[encoded data removed]",
      "text/plain": [
       "<Figure size 432x288 with 1 Axes>"
      ]
     },
     "metadata": {},
     "output_type": "display_data"
    }
   ],
   "source": [
    "Reservasi=data['status_reservasi'].value_counts()\n",
    "Reservasi.plot.pie(autopct='%1.1f%%')"
   ]
  },
  {
   "cell_type": "code",
   "execution_count": 42,
   "metadata": {
    "scrolled": false
   },
   "outputs": [
    {
     "data": {
      "text/html": [
       "<div>\n",
       "<style scoped>\n",
       "    .dataframe tbody tr th:only-of-type {\n",
       "        vertical-align: middle;\n",
       "    }\n",
       "\n",
       "    .dataframe tbody tr th {\n",
       "        vertical-align: top;\n",
       "    }\n",
       "\n",
       "    .dataframe thead th {\n",
       "        text-align: right;\n",
       "    }\n",
       "</style>\n",
       "<table border=\"1\" class=\"dataframe\">\n",
       "  <thead>\n",
       "    <tr style=\"text-align: right;\">\n",
       "      <th></th>\n",
       "      <th>jenis_hotel</th>\n",
       "      <th>cancel</th>\n",
       "      <th>selang_hari</th>\n",
       "      <th>datang_thn</th>\n",
       "      <th>datang_bln</th>\n",
       "      <th>datang_minggu</th>\n",
       "      <th>datang_hari</th>\n",
       "      <th>akhir_pekan</th>\n",
       "      <th>hari_kerja</th>\n",
       "      <th>dewasa</th>\n",
       "      <th>...</th>\n",
       "      <th>agen</th>\n",
       "      <th>perusahaan</th>\n",
       "      <th>daftar_tunggu_hari</th>\n",
       "      <th>tipe_pelanggan</th>\n",
       "      <th>tarif_rata_hari</th>\n",
       "      <th>parkir</th>\n",
       "      <th>khusus</th>\n",
       "      <th>status_reservasi</th>\n",
       "      <th>status_reservasi_tgl</th>\n",
       "      <th>Kode_hotel</th>\n",
       "    </tr>\n",
       "  </thead>\n",
       "  <tbody>\n",
       "    <tr>\n",
       "      <th>0</th>\n",
       "      <td>1</td>\n",
       "      <td>1</td>\n",
       "      <td>342</td>\n",
       "      <td>2015</td>\n",
       "      <td>7</td>\n",
       "      <td>27</td>\n",
       "      <td>1</td>\n",
       "      <td>0</td>\n",
       "      <td>0</td>\n",
       "      <td>2</td>\n",
       "      <td>...</td>\n",
       "      <td>9.0</td>\n",
       "      <td>40.0</td>\n",
       "      <td>0</td>\n",
       "      <td>2</td>\n",
       "      <td>0.0</td>\n",
       "      <td>0</td>\n",
       "      <td>0</td>\n",
       "      <td>Check-Out</td>\n",
       "      <td>2015-07-01</td>\n",
       "      <td>1</td>\n",
       "    </tr>\n",
       "    <tr>\n",
       "      <th>1</th>\n",
       "      <td>1</td>\n",
       "      <td>1</td>\n",
       "      <td>737</td>\n",
       "      <td>2015</td>\n",
       "      <td>7</td>\n",
       "      <td>27</td>\n",
       "      <td>1</td>\n",
       "      <td>0</td>\n",
       "      <td>0</td>\n",
       "      <td>2</td>\n",
       "      <td>...</td>\n",
       "      <td>9.0</td>\n",
       "      <td>40.0</td>\n",
       "      <td>0</td>\n",
       "      <td>2</td>\n",
       "      <td>0.0</td>\n",
       "      <td>0</td>\n",
       "      <td>0</td>\n",
       "      <td>Check-Out</td>\n",
       "      <td>2015-07-01</td>\n",
       "      <td>1</td>\n",
       "    </tr>\n",
       "    <tr>\n",
       "      <th>2</th>\n",
       "      <td>1</td>\n",
       "      <td>1</td>\n",
       "      <td>7</td>\n",
       "      <td>2015</td>\n",
       "      <td>7</td>\n",
       "      <td>27</td>\n",
       "      <td>1</td>\n",
       "      <td>0</td>\n",
       "      <td>1</td>\n",
       "      <td>1</td>\n",
       "      <td>...</td>\n",
       "      <td>9.0</td>\n",
       "      <td>40.0</td>\n",
       "      <td>0</td>\n",
       "      <td>2</td>\n",
       "      <td>75.0</td>\n",
       "      <td>0</td>\n",
       "      <td>0</td>\n",
       "      <td>Check-Out</td>\n",
       "      <td>2015-07-02</td>\n",
       "      <td>1</td>\n",
       "    </tr>\n",
       "    <tr>\n",
       "      <th>3</th>\n",
       "      <td>1</td>\n",
       "      <td>1</td>\n",
       "      <td>13</td>\n",
       "      <td>2015</td>\n",
       "      <td>7</td>\n",
       "      <td>27</td>\n",
       "      <td>1</td>\n",
       "      <td>0</td>\n",
       "      <td>1</td>\n",
       "      <td>1</td>\n",
       "      <td>...</td>\n",
       "      <td>304.0</td>\n",
       "      <td>40.0</td>\n",
       "      <td>0</td>\n",
       "      <td>2</td>\n",
       "      <td>75.0</td>\n",
       "      <td>0</td>\n",
       "      <td>0</td>\n",
       "      <td>Check-Out</td>\n",
       "      <td>2015-07-02</td>\n",
       "      <td>1</td>\n",
       "    </tr>\n",
       "    <tr>\n",
       "      <th>4</th>\n",
       "      <td>1</td>\n",
       "      <td>1</td>\n",
       "      <td>14</td>\n",
       "      <td>2015</td>\n",
       "      <td>7</td>\n",
       "      <td>27</td>\n",
       "      <td>1</td>\n",
       "      <td>0</td>\n",
       "      <td>2</td>\n",
       "      <td>2</td>\n",
       "      <td>...</td>\n",
       "      <td>240.0</td>\n",
       "      <td>40.0</td>\n",
       "      <td>0</td>\n",
       "      <td>2</td>\n",
       "      <td>98.0</td>\n",
       "      <td>0</td>\n",
       "      <td>1</td>\n",
       "      <td>Check-Out</td>\n",
       "      <td>2015-07-03</td>\n",
       "      <td>1</td>\n",
       "    </tr>\n",
       "  </tbody>\n",
       "</table>\n",
       "<p>5 rows × 33 columns</p>\n",
       "</div>"
      ],
      "text/plain": [
       "   jenis_hotel  cancel  selang_hari  datang_thn  datang_bln  datang_minggu  \\\n",
       "0            1       1          342        2015           7             27   \n",
       "1            1       1          737        2015           7             27   \n",
       "2            1       1            7        2015           7             27   \n",
       "3            1       1           13        2015           7             27   \n",
       "4            1       1           14        2015           7             27   \n",
       "\n",
       "   datang_hari  akhir_pekan  hari_kerja  dewasa  ...   agen  perusahaan  \\\n",
       "0            1            0           0       2  ...    9.0        40.0   \n",
       "1            1            0           0       2  ...    9.0        40.0   \n",
       "2            1            0           1       1  ...    9.0        40.0   \n",
       "3            1            0           1       1  ...  304.0        40.0   \n",
       "4            1            0           2       2  ...  240.0        40.0   \n",
       "\n",
       "   daftar_tunggu_hari tipe_pelanggan  tarif_rata_hari  parkir  khusus  \\\n",
       "0                   0              2              0.0       0       0   \n",
       "1                   0              2              0.0       0       0   \n",
       "2                   0              2             75.0       0       0   \n",
       "3                   0              2             75.0       0       0   \n",
       "4                   0              2             98.0       0       1   \n",
       "\n",
       "   status_reservasi  status_reservasi_tgl Kode_hotel  \n",
       "0         Check-Out            2015-07-01          1  \n",
       "1         Check-Out            2015-07-01          1  \n",
       "2         Check-Out            2015-07-02          1  \n",
       "3         Check-Out            2015-07-02          1  \n",
       "4         Check-Out            2015-07-03          1  \n",
       "\n",
       "[5 rows x 33 columns]"
      ]
     },
     "execution_count": 42,
     "metadata": {},
     "output_type": "execute_result"
    }
   ],
   "source": [
    "LE=LabelEncoder()\n",
    "data['Kode_hotel']=LE.fit_transform(data['jenis_hotel'])\n",
    "data.head()"
   ]
  },
  {
   "cell_type": "code",
   "execution_count": 65,
   "metadata": {
    "scrolled": true
   },
   "outputs": [
    {
     "data": {
      "text/plain": [
       "<seaborn.axisgrid.FacetGrid at 0x1de4d2e0a30>"
      ]
     },
     "execution_count": 65,
     "metadata": {},
     "output_type": "execute_result"
    },
    {
     "data": {
      "image/png": "[encoded data removed]",
      "text/plain": [
       "<Figure size 447.625x360 with 1 Axes>"
      ]
     },
     "metadata": {
      "needs_background": "light"
     },
     "output_type": "display_data"
    }
   ],
   "source": [
    "sns.catplot(x=\"Kode_hotel\", kind='count',hue=\"pesan_meal\",palette=\"twilight\",data=data)"
   ]
  },
  {
   "cell_type": "code",
   "execution_count": 64,
   "metadata": {
    "scrolled": false
   },
   "outputs": [
    {
     "data": {
      "text/plain": [
       "<seaborn.axisgrid.FacetGrid at 0x1de4c61ccd0>"
      ]
     },
     "execution_count": 64,
     "metadata": {},
     "output_type": "execute_result"
    },
    {
     "data": {
      "image/png": "[encoded data removed]",
      "text/plain": [
       "<Figure size 475.875x360 with 1 Axes>"
      ]
     },
     "metadata": {
      "needs_background": "light"
     },
     "output_type": "display_data"
    }
   ],
   "source": [
    "sns.catplot(x=\"Kode_hotel\", kind='count',hue=\"pasar\",palette=\"twilight\",data=data)"
   ]
  },
  {
   "cell_type": "code",
   "execution_count": 63,
   "metadata": {
    "scrolled": true
   },
   "outputs": [
    {
     "data": {
      "text/plain": [
       "<seaborn.axisgrid.FacetGrid at 0x1de4591c0d0>"
      ]
     },
     "execution_count": 63,
     "metadata": {},
     "output_type": "execute_result"
    },
    {
     "data": {
      "image/png": "[encoded data removed]",
      "text/plain": [
       "<Figure size 447.625x360 with 1 Axes>"
      ]
     },
     "metadata": {
      "needs_background": "light"
     },
     "output_type": "display_data"
    }
   ],
   "source": [
    "sns.catplot(x=\"Kode_hotel\", kind='count',hue=\"pesan\",palette=\"twilight\",data=data)"
   ]
  },
  {
   "cell_type": "code",
   "execution_count": 80,
   "metadata": {},
   "outputs": [
    {
     "data": {
      "text/plain": [
       "<seaborn.axisgrid.FacetGrid at 0x1de4b946160>"
      ]
     },
     "execution_count": 80,
     "metadata": {},
     "output_type": "execute_result"
    },
    {
     "data": {
      "image/png": "[encoded data removed]",
      "text/plain": [
       "<Figure size 431.25x360 with 1 Axes>"
      ]
     },
     "metadata": {
      "needs_background": "light"
     },
     "output_type": "display_data"
    }
   ],
   "source": [
    "sns.catplot(x=\"Kode_hotel\", kind='count',hue=\"pesan_ulang\", palette=\"twilight\",data=data)"
   ]
  },
  {
   "cell_type": "code",
   "execution_count": 66,
   "metadata": {
    "scrolled": true
   },
   "outputs": [
    {
     "data": {
      "text/plain": [
       "<seaborn.axisgrid.FacetGrid at 0x1de4c311160>"
      ]
     },
     "execution_count": 66,
     "metadata": {},
     "output_type": "execute_result"
    },
    {
     "data": {
      "image/png": "[encoded data removed]",
      "text/plain": [
       "<Figure size 404.75x360 with 1 Axes>"
      ]
     },
     "metadata": {
      "needs_background": "light"
     },
     "output_type": "display_data"
    }
   ],
   "source": [
    "sns.catplot(x=\"Kode_hotel\", kind='count',hue=\"deposit\",palette=\"twilight\",data=data)"
   ]
  },
  {
   "cell_type": "code",
   "execution_count": 67,
   "metadata": {
    "scrolled": true
   },
   "outputs": [
    {
     "data": {
      "text/plain": [
       "<seaborn.axisgrid.FacetGrid at 0x1de4dbb42e0>"
      ]
     },
     "execution_count": 67,
     "metadata": {},
     "output_type": "execute_result"
    },
    {
     "data": {
      "image/png": "[encoded data removed]",
      "text/plain": [
       "<Figure size 470.75x360 with 1 Axes>"
      ]
     },
     "metadata": {
      "needs_background": "light"
     },
     "output_type": "display_data"
    }
   ],
   "source": [
    "sns.catplot(x=\"Kode_hotel\", kind='count',hue=\"tipe_pelanggan\",palette=\"twilight\",data=data)"
   ]
  },
  {
   "cell_type": "markdown",
   "metadata": {},
   "source": [
    "# Feature Selection"
   ]
  },
  {
   "cell_type": "code",
   "execution_count": 86,
   "metadata": {
    "scrolled": true
   },
   "outputs": [
    {
     "data": {
      "text/html": [
       "<div>\n",
       "<style scoped>\n",
       "    .dataframe tbody tr th:only-of-type {\n",
       "        vertical-align: middle;\n",
       "    }\n",
       "\n",
       "    .dataframe tbody tr th {\n",
       "        vertical-align: top;\n",
       "    }\n",
       "\n",
       "    .dataframe thead th {\n",
       "        text-align: right;\n",
       "    }\n",
       "</style>\n",
       "<table border=\"1\" class=\"dataframe\">\n",
       "  <thead>\n",
       "    <tr style=\"text-align: right;\">\n",
       "      <th></th>\n",
       "      <th>selang_hari</th>\n",
       "      <th>datang_thn</th>\n",
       "      <th>datang_bln</th>\n",
       "      <th>datang_minggu</th>\n",
       "      <th>datang_hari</th>\n",
       "      <th>akhir_pekan</th>\n",
       "      <th>hari_kerja</th>\n",
       "      <th>dewasa</th>\n",
       "      <th>anak</th>\n",
       "      <th>bayi</th>\n",
       "      <th>...</th>\n",
       "      <th>cancel_sebelumnya</th>\n",
       "      <th>tdk_cancel_sebelumnya</th>\n",
       "      <th>perubahan_pesan</th>\n",
       "      <th>deposit</th>\n",
       "      <th>agen</th>\n",
       "      <th>perusahaan</th>\n",
       "      <th>daftar_tunggu_hari</th>\n",
       "      <th>tarif_rata_hari</th>\n",
       "      <th>parkir</th>\n",
       "      <th>khusus</th>\n",
       "    </tr>\n",
       "  </thead>\n",
       "  <tbody>\n",
       "    <tr>\n",
       "      <th>0</th>\n",
       "      <td>342</td>\n",
       "      <td>2015</td>\n",
       "      <td>7</td>\n",
       "      <td>27</td>\n",
       "      <td>1</td>\n",
       "      <td>0</td>\n",
       "      <td>0</td>\n",
       "      <td>2</td>\n",
       "      <td>0.0</td>\n",
       "      <td>0</td>\n",
       "      <td>...</td>\n",
       "      <td>0</td>\n",
       "      <td>0</td>\n",
       "      <td>3</td>\n",
       "      <td>1</td>\n",
       "      <td>9.0</td>\n",
       "      <td>40.0</td>\n",
       "      <td>0</td>\n",
       "      <td>0.0</td>\n",
       "      <td>0</td>\n",
       "      <td>0</td>\n",
       "    </tr>\n",
       "    <tr>\n",
       "      <th>1</th>\n",
       "      <td>737</td>\n",
       "      <td>2015</td>\n",
       "      <td>7</td>\n",
       "      <td>27</td>\n",
       "      <td>1</td>\n",
       "      <td>0</td>\n",
       "      <td>0</td>\n",
       "      <td>2</td>\n",
       "      <td>0.0</td>\n",
       "      <td>0</td>\n",
       "      <td>...</td>\n",
       "      <td>0</td>\n",
       "      <td>0</td>\n",
       "      <td>4</td>\n",
       "      <td>1</td>\n",
       "      <td>9.0</td>\n",
       "      <td>40.0</td>\n",
       "      <td>0</td>\n",
       "      <td>0.0</td>\n",
       "      <td>0</td>\n",
       "      <td>0</td>\n",
       "    </tr>\n",
       "    <tr>\n",
       "      <th>2</th>\n",
       "      <td>7</td>\n",
       "      <td>2015</td>\n",
       "      <td>7</td>\n",
       "      <td>27</td>\n",
       "      <td>1</td>\n",
       "      <td>0</td>\n",
       "      <td>1</td>\n",
       "      <td>1</td>\n",
       "      <td>0.0</td>\n",
       "      <td>0</td>\n",
       "      <td>...</td>\n",
       "      <td>0</td>\n",
       "      <td>0</td>\n",
       "      <td>0</td>\n",
       "      <td>1</td>\n",
       "      <td>9.0</td>\n",
       "      <td>40.0</td>\n",
       "      <td>0</td>\n",
       "      <td>75.0</td>\n",
       "      <td>0</td>\n",
       "      <td>0</td>\n",
       "    </tr>\n",
       "  </tbody>\n",
       "</table>\n",
       "<p>3 rows × 21 columns</p>\n",
       "</div>"
      ],
      "text/plain": [
       "   selang_hari  datang_thn  datang_bln  datang_minggu  datang_hari  \\\n",
       "0          342        2015           7             27            1   \n",
       "1          737        2015           7             27            1   \n",
       "2            7        2015           7             27            1   \n",
       "\n",
       "   akhir_pekan  hari_kerja  dewasa  anak  bayi  ...  cancel_sebelumnya  \\\n",
       "0            0           0       2   0.0     0  ...                  0   \n",
       "1            0           0       2   0.0     0  ...                  0   \n",
       "2            0           1       1   0.0     0  ...                  0   \n",
       "\n",
       "   tdk_cancel_sebelumnya  perubahan_pesan  deposit  agen  perusahaan  \\\n",
       "0                      0                3        1   9.0        40.0   \n",
       "1                      0                4        1   9.0        40.0   \n",
       "2                      0                0        1   9.0        40.0   \n",
       "\n",
       "   daftar_tunggu_hari  tarif_rata_hari  parkir  khusus  \n",
       "0                   0              0.0       0       0  \n",
       "1                   0              0.0       0       0  \n",
       "2                   0             75.0       0       0  \n",
       "\n",
       "[3 rows x 21 columns]"
      ]
     },
     "execution_count": 86,
     "metadata": {},
     "output_type": "execute_result"
    }
   ],
   "source": [
    "#Variabel numerik aja\n",
    "data_numerik = data.select_dtypes([np.number])\n",
    "data_numerik.head(3)"
   ]
  },
  {
   "cell_type": "code",
   "execution_count": 87,
   "metadata": {},
   "outputs": [
    {
     "name": "stderr",
     "output_type": "stream",
     "text": [
      "C:\\Users\\asus\\anaconda3\\lib\\site-packages\\pandas\\core\\frame.py:4163: SettingWithCopyWarning: \n",
      "A value is trying to be set on a copy of a slice from a DataFrame\n",
      "\n",
      "See the caveats in the documentation: https://pandas.pydata.org/pandas-docs/stable/user_guide/indexing.html#returning-a-view-versus-a-copy\n",
      "  return super().drop(\n"
     ]
    },
    {
     "data": {
      "text/html": [
       "<div>\n",
       "<style scoped>\n",
       "    .dataframe tbody tr th:only-of-type {\n",
       "        vertical-align: middle;\n",
       "    }\n",
       "\n",
       "    .dataframe tbody tr th {\n",
       "        vertical-align: top;\n",
       "    }\n",
       "\n",
       "    .dataframe thead th {\n",
       "        text-align: right;\n",
       "    }\n",
       "</style>\n",
       "<table border=\"1\" class=\"dataframe\">\n",
       "  <thead>\n",
       "    <tr style=\"text-align: right;\">\n",
       "      <th></th>\n",
       "      <th>selang_hari</th>\n",
       "      <th>datang_thn</th>\n",
       "      <th>datang_bln</th>\n",
       "      <th>datang_minggu</th>\n",
       "      <th>datang_hari</th>\n",
       "      <th>akhir_pekan</th>\n",
       "      <th>hari_kerja</th>\n",
       "      <th>dewasa</th>\n",
       "      <th>anak</th>\n",
       "      <th>bayi</th>\n",
       "      <th>cancel_sebelumnya</th>\n",
       "      <th>tdk_cancel_sebelumnya</th>\n",
       "      <th>perubahan_pesan</th>\n",
       "      <th>daftar_tunggu_hari</th>\n",
       "      <th>tarif_rata_hari</th>\n",
       "      <th>parkir</th>\n",
       "      <th>khusus</th>\n",
       "    </tr>\n",
       "  </thead>\n",
       "  <tbody>\n",
       "    <tr>\n",
       "      <th>0</th>\n",
       "      <td>342</td>\n",
       "      <td>2015</td>\n",
       "      <td>7</td>\n",
       "      <td>27</td>\n",
       "      <td>1</td>\n",
       "      <td>0</td>\n",
       "      <td>0</td>\n",
       "      <td>2</td>\n",
       "      <td>0.0</td>\n",
       "      <td>0</td>\n",
       "      <td>0</td>\n",
       "      <td>0</td>\n",
       "      <td>3</td>\n",
       "      <td>0</td>\n",
       "      <td>0.0</td>\n",
       "      <td>0</td>\n",
       "      <td>0</td>\n",
       "    </tr>\n",
       "    <tr>\n",
       "      <th>1</th>\n",
       "      <td>737</td>\n",
       "      <td>2015</td>\n",
       "      <td>7</td>\n",
       "      <td>27</td>\n",
       "      <td>1</td>\n",
       "      <td>0</td>\n",
       "      <td>0</td>\n",
       "      <td>2</td>\n",
       "      <td>0.0</td>\n",
       "      <td>0</td>\n",
       "      <td>0</td>\n",
       "      <td>0</td>\n",
       "      <td>4</td>\n",
       "      <td>0</td>\n",
       "      <td>0.0</td>\n",
       "      <td>0</td>\n",
       "      <td>0</td>\n",
       "    </tr>\n",
       "    <tr>\n",
       "      <th>2</th>\n",
       "      <td>7</td>\n",
       "      <td>2015</td>\n",
       "      <td>7</td>\n",
       "      <td>27</td>\n",
       "      <td>1</td>\n",
       "      <td>0</td>\n",
       "      <td>1</td>\n",
       "      <td>1</td>\n",
       "      <td>0.0</td>\n",
       "      <td>0</td>\n",
       "      <td>0</td>\n",
       "      <td>0</td>\n",
       "      <td>0</td>\n",
       "      <td>0</td>\n",
       "      <td>75.0</td>\n",
       "      <td>0</td>\n",
       "      <td>0</td>\n",
       "    </tr>\n",
       "  </tbody>\n",
       "</table>\n",
       "</div>"
      ],
      "text/plain": [
       "   selang_hari  datang_thn  datang_bln  datang_minggu  datang_hari  \\\n",
       "0          342        2015           7             27            1   \n",
       "1          737        2015           7             27            1   \n",
       "2            7        2015           7             27            1   \n",
       "\n",
       "   akhir_pekan  hari_kerja  dewasa  anak  bayi  cancel_sebelumnya  \\\n",
       "0            0           0       2   0.0     0                  0   \n",
       "1            0           0       2   0.0     0                  0   \n",
       "2            0           1       1   0.0     0                  0   \n",
       "\n",
       "   tdk_cancel_sebelumnya  perubahan_pesan  daftar_tunggu_hari  \\\n",
       "0                      0                3                   0   \n",
       "1                      0                4                   0   \n",
       "2                      0                0                   0   \n",
       "\n",
       "   tarif_rata_hari  parkir  khusus  \n",
       "0              0.0       0       0  \n",
       "1              0.0       0       0  \n",
       "2             75.0       0       0  "
      ]
     },
     "execution_count": 87,
     "metadata": {},
     "output_type": "execute_result"
    }
   ],
   "source": [
    "# buang variabel\n",
    "data_numerik.drop(['pesan_ulang', 'deposit', 'agen', 'perusahaan'],axis=1,inplace=True)\n",
    "data_numerik.head(3)"
   ]
  },
  {
   "cell_type": "code",
   "execution_count": 88,
   "metadata": {},
   "outputs": [
    {
     "data": {
      "text/plain": [
       "['datang_bln']"
      ]
     },
     "execution_count": 88,
     "metadata": {},
     "output_type": "execute_result"
    }
   ],
   "source": [
    "# feature selection - correlation thresholds: buang variabel yang punya korelasi tinggi dengan yang lain\n",
    "def find_correlation(df, thresh=0.9):    \n",
    "    corrMatrix = df.corr()\n",
    "    corrMatrix.loc[:,:] =  np.tril(corrMatrix, k=-1)\n",
    "    already_in = set()\n",
    "    result = []\n",
    "    for col in corrMatrix:\n",
    "        perfect_corr = corrMatrix[col][corrMatrix[col] > thresh].index.tolist()\n",
    "        if perfect_corr and col not in already_in:\n",
    "            already_in.update(set(perfect_corr))\n",
    "            perfect_corr.append(col)\n",
    "            result.append(perfect_corr)\n",
    "    select_nested = [f[1:] for f in result]\n",
    "    select_flat = [i for j in select_nested for i in j]\n",
    "    return select_flat\n",
    "\n",
    "find_correlation(data_numerik,thresh=0.9)"
   ]
  },
  {
   "cell_type": "code",
   "execution_count": 89,
   "metadata": {},
   "outputs": [
    {
     "name": "stderr",
     "output_type": "stream",
     "text": [
      "C:\\Users\\asus\\anaconda3\\lib\\site-packages\\pandas\\core\\frame.py:4163: SettingWithCopyWarning: \n",
      "A value is trying to be set on a copy of a slice from a DataFrame\n",
      "\n",
      "See the caveats in the documentation: https://pandas.pydata.org/pandas-docs/stable/user_guide/indexing.html#returning-a-view-versus-a-copy\n",
      "  return super().drop(\n"
     ]
    },
    {
     "data": {
      "text/html": [
       "<div>\n",
       "<style scoped>\n",
       "    .dataframe tbody tr th:only-of-type {\n",
       "        vertical-align: middle;\n",
       "    }\n",
       "\n",
       "    .dataframe tbody tr th {\n",
       "        vertical-align: top;\n",
       "    }\n",
       "\n",
       "    .dataframe thead th {\n",
       "        text-align: right;\n",
       "    }\n",
       "</style>\n",
       "<table border=\"1\" class=\"dataframe\">\n",
       "  <thead>\n",
       "    <tr style=\"text-align: right;\">\n",
       "      <th></th>\n",
       "      <th>selang_hari</th>\n",
       "      <th>datang_thn</th>\n",
       "      <th>datang_minggu</th>\n",
       "      <th>datang_hari</th>\n",
       "      <th>akhir_pekan</th>\n",
       "      <th>hari_kerja</th>\n",
       "      <th>dewasa</th>\n",
       "      <th>anak</th>\n",
       "      <th>bayi</th>\n",
       "      <th>cancel_sebelumnya</th>\n",
       "      <th>tdk_cancel_sebelumnya</th>\n",
       "      <th>perubahan_pesan</th>\n",
       "      <th>daftar_tunggu_hari</th>\n",
       "      <th>tarif_rata_hari</th>\n",
       "      <th>parkir</th>\n",
       "      <th>khusus</th>\n",
       "    </tr>\n",
       "  </thead>\n",
       "  <tbody>\n",
       "    <tr>\n",
       "      <th>0</th>\n",
       "      <td>342</td>\n",
       "      <td>2015</td>\n",
       "      <td>27</td>\n",
       "      <td>1</td>\n",
       "      <td>0</td>\n",
       "      <td>0</td>\n",
       "      <td>2</td>\n",
       "      <td>0.0</td>\n",
       "      <td>0</td>\n",
       "      <td>0</td>\n",
       "      <td>0</td>\n",
       "      <td>3</td>\n",
       "      <td>0</td>\n",
       "      <td>0.0</td>\n",
       "      <td>0</td>\n",
       "      <td>0</td>\n",
       "    </tr>\n",
       "    <tr>\n",
       "      <th>1</th>\n",
       "      <td>737</td>\n",
       "      <td>2015</td>\n",
       "      <td>27</td>\n",
       "      <td>1</td>\n",
       "      <td>0</td>\n",
       "      <td>0</td>\n",
       "      <td>2</td>\n",
       "      <td>0.0</td>\n",
       "      <td>0</td>\n",
       "      <td>0</td>\n",
       "      <td>0</td>\n",
       "      <td>4</td>\n",
       "      <td>0</td>\n",
       "      <td>0.0</td>\n",
       "      <td>0</td>\n",
       "      <td>0</td>\n",
       "    </tr>\n",
       "    <tr>\n",
       "      <th>2</th>\n",
       "      <td>7</td>\n",
       "      <td>2015</td>\n",
       "      <td>27</td>\n",
       "      <td>1</td>\n",
       "      <td>0</td>\n",
       "      <td>1</td>\n",
       "      <td>1</td>\n",
       "      <td>0.0</td>\n",
       "      <td>0</td>\n",
       "      <td>0</td>\n",
       "      <td>0</td>\n",
       "      <td>0</td>\n",
       "      <td>0</td>\n",
       "      <td>75.0</td>\n",
       "      <td>0</td>\n",
       "      <td>0</td>\n",
       "    </tr>\n",
       "  </tbody>\n",
       "</table>\n",
       "</div>"
      ],
      "text/plain": [
       "   selang_hari  datang_thn  datang_minggu  datang_hari  akhir_pekan  \\\n",
       "0          342        2015             27            1            0   \n",
       "1          737        2015             27            1            0   \n",
       "2            7        2015             27            1            0   \n",
       "\n",
       "   hari_kerja  dewasa  anak  bayi  cancel_sebelumnya  tdk_cancel_sebelumnya  \\\n",
       "0           0       2   0.0     0                  0                      0   \n",
       "1           0       2   0.0     0                  0                      0   \n",
       "2           1       1   0.0     0                  0                      0   \n",
       "\n",
       "   perubahan_pesan  daftar_tunggu_hari  tarif_rata_hari  parkir  khusus  \n",
       "0                3                   0              0.0       0       0  \n",
       "1                4                   0              0.0       0       0  \n",
       "2                0                   0             75.0       0       0  "
      ]
     },
     "execution_count": 89,
     "metadata": {},
     "output_type": "execute_result"
    }
   ],
   "source": [
    "# buang variabel\n",
    "data_numerik.drop(['datang_bln'],axis=1,inplace=True)\n",
    "data_numerik.head(3)"
   ]
  }
 ],
 "metadata": {
  "kernelspec": {
   "display_name": "Python 3",
   "language": "python",
   "name": "python3"
  },
  "language_info": {
   "codemirror_mode": {
    "name": "ipython",
    "version": 3
   },
   "file_extension": ".py",
   "mimetype": "text/x-python",
   "name": "python",
   "nbconvert_exporter": "python",
   "pygments_lexer": "ipython3",
   "version": "3.8.5"
  }
 },
 "nbformat": 4,
 "nbformat_minor": 4
}
